{
 "cells": [
  {
   "cell_type": "code",
   "execution_count": 1,
   "metadata": {},
   "outputs": [],
   "source": [
    "import numpy as np\n",
    "import matplotlib.pyplot as plt\n",
    "from pre_fun import *\n",
    "\n",
    "from matplotlib import ticker"
   ]
  },
  {
   "cell_type": "code",
   "execution_count": 2,
   "metadata": {},
   "outputs": [],
   "source": [
    "# import data\n",
    "name = '20180607_model_1_imp_test1_0.sim'\n",
    "name1 = '20180607_model_1_imp_test1_1.sim'\n",
    "name2 = '20180607_model_1_imp_test1_2.sim'\n",
    "name3 = '20180607_model_1_imp_test1_3.sim'\n",
    "\n",
    "# load setup object\n",
    "stp = Setup.load_setup( name )\n",
    "stp1 = Setup.load_setup( name1 )\n",
    "stp2 = Setup.load_setup( name2 )\n",
    "stp3 = Setup.load_setup( name3 )"
   ]
  },
  {
   "cell_type": "code",
   "execution_count": 12,
   "metadata": {},
   "outputs": [
    {
     "data": {
      "text/plain": [
       "{'D0': 100000000.0,\n",
       " 'DA': 1.0,\n",
       " 'DC': 1.0,\n",
       " 'Dt': 0.0001,\n",
       " 'E0_A': 0.0,\n",
       " 'E0_C': 0.0,\n",
       " 'I': 500,\n",
       " 'I_middle': 0,\n",
       " 'L': 40,\n",
       " 'N': 524288,\n",
       " 'T': 300,\n",
       " 'T0': 1.6e-05,\n",
       " 'alpha': 0.0,\n",
       " 'c0': 0.6022140857,\n",
       " 'cA': 0.5,\n",
       " 'cC': 0.5,\n",
       " 'chi1': 1.0,\n",
       " 'chi2': 8430.407524526323,\n",
       " 'current_data': array([[    0.        ,     0.        ,  1087.68448756, ...,\n",
       "           818.26131212, -1047.35987911,  1689.52590837],\n",
       "        [    0.        ,     0.        , -1087.68454136, ...,\n",
       "          -818.26040804,  1047.3607862 , -1689.52500373]]),\n",
       " 'epsilon': 1.0,\n",
       " 'epsilon_m': 80.0,\n",
       " 'f0': 1505535.2142500002,\n",
       " 'input_voltage_data': array([ 0.        ,  4.06307904,  3.0885904 , ..., -3.69214617,\n",
       "        -3.0885904 , -4.06307904]),\n",
       " 'kA': 1e-06,\n",
       " 'kC': 1e-06,\n",
       " 'lengthscale': 1000000000.0,\n",
       " 'model': 1,\n",
       " 'phi0': 0.025851991011651636,\n",
       " 'sim_method': 'c_only_imp',\n",
       " 'simulation_date': '2018-06-08',\n",
       " 'steady_state_tol': 1e-07,\n",
       " 'testname': '20180607_model_1_imp_test1_3'}"
      ]
     },
     "execution_count": 12,
     "metadata": {},
     "output_type": "execute_result"
    }
   ],
   "source": [
    "stp3.__dict__"
   ]
  },
  {
   "cell_type": "code",
   "execution_count": 14,
   "metadata": {},
   "outputs": [
    {
     "data": {
      "text/plain": [
       "1192.0928955078125"
      ]
     },
     "execution_count": 14,
     "metadata": {},
     "output_type": "execute_result"
    }
   ],
   "source": [
    "1.0 / ( stp.T0 * stp.Dt * stp.N)"
   ]
  },
  {
   "cell_type": "code",
   "execution_count": 65,
   "metadata": {},
   "outputs": [
    {
     "data": {
      "text/plain": [
       "13.563032877258449"
      ]
     },
     "execution_count": 65,
     "metadata": {},
     "output_type": "execute_result"
    }
   ],
   "source": [
    "# voltage data units?\n",
    "\n",
    "(stp.input_voltage_data.max() - stp.input_voltage_data.min()) * stp.phi0**2 * 1e3"
   ]
  },
  {
   "cell_type": "code",
   "execution_count": 28,
   "metadata": {},
   "outputs": [
    {
     "data": {
      "text/plain": [
       "2384.185791015625"
      ]
     },
     "execution_count": 28,
     "metadata": {},
     "output_type": "execute_result"
    }
   ],
   "source": [
    "freq_ax[1]"
   ]
  },
  {
   "cell_type": "code",
   "execution_count": 5,
   "metadata": {},
   "outputs": [],
   "source": [
    "# calculate FFT\n",
    "\n",
    "Fvoltage = np.fft.fft(stp.input_voltage_data * stp.phi0 ** 2)[1:int(stp.N/2)]\n",
    "freq_ax = np.fft.fftfreq(stp.N, d = stp.Dt)[1:int(stp.N/2)] / stp.T0\n",
    "\n",
    "Fvoltage1 = np.fft.fft(stp1.input_voltage_data * stp1.phi0 ** 2)[1:int(stp1.N/2)]\n",
    "freq_ax1 = np.fft.fftfreq(stp1.N, d = stp1.Dt)[1:int(stp1.N/2)] / stp1.T0\n",
    "\n",
    "Fvoltage2 = np.fft.fft(stp2.input_voltage_data * stp2.phi0 ** 2)[1:int(stp2.N/2)]\n",
    "freq_ax2 = np.fft.fftfreq(stp2.N, d = stp2.Dt)[1:int(stp2.N/2)] / stp2.T0\n",
    "\n",
    "Fvoltage3 = np.fft.fft(stp3.input_voltage_data * stp3.phi0 ** 2)[1:int(stp3.N/2)]\n",
    "freq_ax3 = np.fft.fftfreq(stp3.N, d = stp3.Dt)[1:int(stp3.N/2)] / stp3.T0\n",
    "\n",
    "# anodic current\n",
    "Fcurrent_A = np.fft.fft(-stp.current_data[0,:])[1:int(stp.N/2)]\n",
    "Fcurrent_A1 = np.fft.fft(-stp1.current_data[0,:])[1:int(stp1.N/2)]\n",
    "Fcurrent_A2 = np.fft.fft(-stp2.current_data[0,:])[1:int(stp2.N/2)]\n",
    "Fcurrent_A3 = np.fft.fft(-stp3.current_data[0,:])[1:int(stp3.N/2)]\n",
    "\n",
    "# catodic current\n",
    "# Fcurrent_C = np.fft.fft(stp.current_data[1,:])[1:int(stp.N/2)]\n",
    "\n",
    "# calculate Impedance\n",
    "\n",
    "# from anodic current and catodic current\n",
    "ZA = 1e3 *  Fvoltage / Fcurrent_A\n",
    "ZA1 = 1e3 *  Fvoltage1 / Fcurrent_A1\n",
    "ZA2 = 1e3 *  Fvoltage2 / Fcurrent_A2\n",
    "ZA3 = 1e3 *  Fvoltage3 / Fcurrent_A3\n"
   ]
  },
  {
   "cell_type": "markdown",
   "metadata": {},
   "source": [
    "Current in $ \\frac{mA}{cm^2} $\n",
    "\n",
    "Voltage in $ V $\n",
    "\n",
    "Unit of Impedance\n",
    "\n",
    "$$ \\left[ Z \\right] = \\left[ \\frac{V}{I} \\right] = \\frac{V}{mA cm^{-2}} = 10^3 \\Omega cm^2$$"
   ]
  },
  {
   "cell_type": "code",
   "execution_count": 62,
   "metadata": {},
   "outputs": [
    {
     "data": {
      "image/png": "[encoded data removed]",
      "text/plain": [
       "<matplotlib.figure.Figure at 0xcf80780>"
      ]
     },
     "metadata": {},
     "output_type": "display_data"
    }
   ],
   "source": [
    "fig = plt.figure(dpi = 120)\n",
    "\n",
    "ax = fig.add_subplot(1,1,1)\n",
    "\n",
    "#ax.plot(freq_ax1, Fvoltage1.imag)\n",
    "\n",
    "# anodic\n",
    "# ax.plot(freq_ax, Fcurrent_A.imag, color = \"red\",ls = '--', label = r\"$\\Im \\left( \\overline{I}_A \\right) $\")\n",
    "# ax.plot(freq_ax, Fcurrent_A.real, color = \"black\",ls = '--', label = r\"$\\Re \\left( \\overline{I}_A \\right) $\")\n",
    "\n",
    "# ax.plot(freq_ax1, Fcurrent_A3.imag, color = \"red\", ls = 'None', marker = '.', label = r\"$\\Im \\left( \\overline{I}_A \\right) $\")\n",
    "# ax.plot(freq_ax1, Fcurrent_A3.real, color = \"black\", ls = 'None', marker = '.', label = r\"$\\Re \\left( \\overline{I}_A \\right) $\")\n",
    "\n",
    "# ax.plot(freq_ax1, ZA3.imag, color = \"red\", ls = 'None', marker = '.', label = r\"$\\Im \\left( \\overline{I}_A \\right) $\")\n",
    "ax.plot(freq_ax1, ZA1.imag, color = \"black\", ls = 'None', marker = '.', label = r\"$\\Im \\left( \\overline{I}_A \\right) $\")\n",
    "\n",
    "# catodic\n",
    "# ax.plot(freq_ax1, Fcurrent_C.imag, color = \"red\", ls = '--')\n",
    "# ax.plot(freq_ax1, Fcurrent_C.real, color = \"black\", ls = '--')\n",
    "\n",
    "# scales\n",
    "ax.set_xscale('log')\n",
    "ax.set_yscale('symlog', linthresh = 1e-14)\n",
    "\n",
    "# labels\n",
    "ax.set_xlabel(r\"$\\log (f)$ [Hz]\")\n",
    "ax.set_ylabel(r\"$\\overline{I}$\")\n",
    "\n",
    "# grid\n",
    "ax.grid(b=True, which = 'major', axis = 'both')\n",
    "\n",
    "# ticks and ticklabels\n",
    "ax.yaxis.set_major_formatter(ticker.FormatStrFormatter(\"%1.0e\"))\n",
    "\n",
    "# ax.set_xlim([1e3, 5e3])\n",
    "ax.legend()\n",
    "\n",
    "plt.show()\n",
    "\n",
    "#fig.savefig( \"20180607_model_1_imp_test1_0_FIvsf_anodic.pdf\", format = \"pdf\", dpi = 300)"
   ]
  },
  {
   "cell_type": "code",
   "execution_count": null,
   "metadata": {},
   "outputs": [],
   "source": []
  },
  {
   "cell_type": "code",
   "execution_count": 63,
   "metadata": {
    "scrolled": false
   },
   "outputs": [
    {
     "data": {
      "image/png": "[encoded data removed]",
      "text/plain": [
       "<matplotlib.figure.Figure at 0xf4706a0>"
      ]
     },
     "metadata": {},
     "output_type": "display_data"
    },
    {
     "name": "stdout",
     "output_type": "stream",
     "text": [
      "fig saved!\n"
     ]
    }
   ],
   "source": [
    "\n",
    "\n",
    "# Nyquist plot\n",
    "fig = plt.figure(dpi = 120)\n",
    "\n",
    "ax = fig.add_subplot(1,1,1)\n",
    "\n",
    "# ax.plot((ZA.real), (ZA.imag), marker = \".\", ls = \"None\", color = 'red', label = r\"Anodic\")\n",
    "# ax.plot((ZA1.real), (ZA1.imag), marker = \".\", ls = \"None\", color = 'red', label = r\"Anodic\")\n",
    "# ax.plot((ZA2.real), (ZA2.imag), marker = \".\", ls = \"None\", color = 'red', label = r\"Anodic\")\n",
    "ax.plot((ZA3.real), (ZA3.imag), marker = \".\", ls = \"None\", color = 'red', label = r\"Anodic\")\n",
    "# ax.plot(ZC.real, (ZC.imag), marker = \".\", ls = \"None\", color = 'blue', label = r\"Catodic\")\n",
    "\n",
    "\n",
    "#\n",
    "# ax.set_xlim([0,0.0012])\n",
    "# ax.set_ylim([0,0.045])\n",
    "# ax.set_xlim([-1e-5,0.0002])\n",
    "\n",
    "# scales\n",
    "# ax.set_xscale('log')\n",
    "# ax.set_yscale('symlog', linthresh = 1e-14)\n",
    "\n",
    "# labels\n",
    "ax.set_xlabel(r\"$\\Re (Z)$ $\\left[ \\Omega cm^2\\right]$ \")\n",
    "ax.set_ylabel(r\"$\\Im (Z)$ $\\left[ \\Omega cm^2\\right]$ \")\n",
    "\n",
    "# grid\n",
    "ax.grid(b=True, which = 'major', axis = 'both')\n",
    "\n",
    "# ticks and ticklabels\n",
    "ax.xaxis.set_major_formatter(ticker.FormatStrFormatter(\"%1.1e\"))\n",
    "ax.yaxis.set_major_formatter(ticker.FormatStrFormatter(\"%1.1e\"))\n",
    "ax.xaxis.set_minor_locator(ticker.AutoMinorLocator())\n",
    "ax.yaxis.set_minor_locator(ticker.AutoMinorLocator())\n",
    "\n",
    "# ax.legend()\n",
    "\n",
    "ax.invert_yaxis()\n",
    "\n",
    "plt.draw()\n",
    "\n",
    "# get ticklabels\n",
    "ty = ax.get_yticklabels()\n",
    "tx = ax.get_xticklabels()\n",
    "\n",
    "# modify ticklabel: remove annoying +0 in exponent\n",
    "for el in ty:\n",
    "    \n",
    "    if not el.get_text() == '':\n",
    "        ylab = el.get_text().split(sep = 'e')[0] + 'e' + el.get_text().split(sep = 'e')[1].replace('+0','').replace('-0','-')\n",
    "        el.set_text(ylab)\n",
    "\n",
    "for el in tx:\n",
    "\n",
    "    if not el.get_text() == '':\n",
    "        xlab = el.get_text().split(sep = 'e')[0] + 'e' + el.get_text().split(sep = 'e')[1].replace('+0','').replace('-0','-')\n",
    "        el.set_text(xlab)\n",
    "\n",
    "# set ticklabels\n",
    "ax.set_yticklabels(ty, fontsize = 9)\n",
    "ax.set_xticklabels(tx, fontsize = 9)\n",
    "\n",
    "fig.tight_layout()\n",
    "\n",
    "plt.show()\n",
    "\n",
    "# save plot as pdf and png\n",
    "for fmt in ['png', 'pdf']:\n",
    "    fig.savefig( \"20180607_model_1_imp_test1_3_\" + \"Z_Nyquist.\" + fmt, format = fmt, dpi = 300)\n",
    "print(\"fig saved!\")\n",
    "\n"
   ]
  },
  {
   "cell_type": "code",
   "execution_count": 61,
   "metadata": {},
   "outputs": [
    {
     "data": {
      "text/plain": [
       "1"
      ]
     },
     "execution_count": 61,
     "metadata": {},
     "output_type": "execute_result"
    }
   ],
   "source": [
    "## find point where imag > 0\n",
    "np.argmax(ZA3.imag)\n"
   ]
  },
  {
   "cell_type": "code",
   "execution_count": 19,
   "metadata": {
    "scrolled": false
   },
   "outputs": [
    {
     "data": {
      "image/png": "[encoded data removed]",
      "text/plain": [
       "<matplotlib.figure.Figure at 0x11346e48>"
      ]
     },
     "metadata": {},
     "output_type": "display_data"
    },
    {
     "name": "stdout",
     "output_type": "stream",
     "text": [
      "fig saved!\n"
     ]
    }
   ],
   "source": [
    "# Bode plot\n",
    "fig = plt.figure(dpi = 120)\n",
    "\n",
    "ax = fig.add_subplot(1,1,1)\n",
    "\n",
    "ax.plot(freq_ax, np.absolute(ZA), marker = \".\", ls = \"None\", label = r\"$k_A = 1.0$\")\n",
    "ax.plot(freq_ax1, np.absolute(ZA1), marker = \"*\", ls = \"None\", label = r\"$k_A = 1.0\\cdot 10^{-2}$\")\n",
    "ax.plot(freq_ax2, np.absolute(ZA2), marker = \"p\", ls = \"None\", label = r\"$k_A = 1.0\\cdot 10^{-4}$\")\n",
    "ax.plot(freq_ax3, np.absolute(ZA3), marker = \"x\", ls = \"None\", label = r\"$k_A = 1.0\\cdot 10^{-6}$\")\n",
    "\n",
    "fig.tight_layout()\n",
    "\n",
    "# set log scales\n",
    "ax.set_xscale(\"log\")\n",
    "ax.set_yscale(\"log\")\n",
    "\n",
    "# set limits\n",
    "ax.set_ylim([1e-5, 1e1]) #np.max(np.absolute(ZA)) + 0.2 * np.max(np.absolute(ZA))])\n",
    "\n",
    "# grid\n",
    "ax.grid(b=True, which = 'major', axis = 'both')\n",
    "\n",
    "# ticks and ticklabels\n",
    "ax.xaxis.set_major_formatter(ticker.FormatStrFormatter(\"%1.1e\"))\n",
    "ax.yaxis.set_major_formatter(ticker.FormatStrFormatter(\"%1.1e\"))\n",
    "\n",
    "\n",
    "# set labels\n",
    "ax.set_xlabel(r\"$\\log (f)$ [Hz]\")\n",
    "ax.set_ylabel(r\"$\\left| Z \\right|$ $\\left[ \\Omega cm^2 \\right]$ \")\n",
    "\n",
    "plt.draw()\n",
    "\n",
    "# # get ticklabels\n",
    "ty = ax.get_yticklabels()\n",
    "tx = ax.get_xticklabels()\n",
    "\n",
    "# # modify ticklabel: remove annoying +0 in exponent\n",
    "for el in ty:\n",
    "    \n",
    "    if not el.get_text() == '' and el.get_text().split(sep = 'e').__len__() >1:\n",
    "        ylab = el.get_text().split(sep = 'e')[0] + 'e' + el.get_text().split(sep = 'e')[1].replace('+0','').replace('-0','-')\n",
    "        el.set_text(ylab)\n",
    "\n",
    "for el in tx:\n",
    "\n",
    "    if not el.get_text() == '' and el.get_text().split(sep = 'e').__len__() >1:\n",
    "        xlab = el.get_text().split(sep = 'e')[0] + 'e' + el.get_text().split(sep = 'e')[1].replace('+0','').replace('-0','-')\n",
    "        el.set_text(xlab)\n",
    "\n",
    "# set ticklabels\n",
    "ax.set_yticklabels(ty, fontsize = 9)\n",
    "ax.set_xticklabels(tx, fontsize = 9)\n",
    "\n",
    "ax.legend()\n",
    "\n",
    "fig.tight_layout()\n",
    "\n",
    "plt.show()\n",
    "\n",
    "# save plot as pdf and png\n",
    "for fmt in ['png', 'pdf']:\n",
    "    fig.savefig( \"20180607_model_1_imp_test1_all_\" + \"Z_Bode.\" + fmt, format = fmt, dpi = 300)\n",
    "print(\"fig saved!\")"
   ]
  }
 ],
 "metadata": {
  "kernelspec": {
   "display_name": "Python 3",
   "language": "python",
   "name": "python3"
  },
  "language_info": {
   "codemirror_mode": {
    "name": "ipython",
    "version": 3
   },
   "file_extension": ".py",
   "mimetype": "text/x-python",
   "name": "python",
   "nbconvert_exporter": "python",
   "pygments_lexer": "ipython3",
   "version": "3.6.4"
  }
 },
 "nbformat": 4,
 "nbformat_minor": 2
}
