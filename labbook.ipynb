{
 "cells": [
  {
   "cell_type": "code",
   "execution_count": 1,
   "metadata": {},
   "outputs": [],
   "source": [
    "import numpy as np, matplotlib as plt\n",
    "import numpy as np"
   ]
  },
  {
   "cell_type": "markdown",
   "metadata": {},
   "source": [
    "2018 05 30\n",
    "-----------\n",
    "\n",
    "to do's:\n",
    "- [ ] Analysiere Impedanz Daten von $D_0 = 1e-12 $ Simulationen von model 0\n",
    "    + [ ] Diffusionskoeffizient variiert\n",
    "    + [ ] Sepearator length variiert\n",
    "\n",
    "- [ ] schreibe export funktion die setup und daten in class zusammenfässt und speichert\n",
    "- [ ] schreibe multiprocessing funktion für simulation für parameter sweep\n",
    "- [ ] parameter sweep für model 1\n",
    "   "
   ]
  },
  {
   "cell_type": "code",
   "execution_count": 1,
   "metadata": {},
   "outputs": [],
   "source": [
    "# teste class save with data\n",
    "import numpy as np\n",
    "\n",
    "class testclass( object ):\n",
    "    \n",
    "    def __init__( self, parameter ):\n",
    "        \"\"\"\n",
    "        Void\n",
    "        \"\"\"\n",
    "        self.parameter = parameter\n",
    "\n",
    "    def set_data( self, data ):\n",
    "        \"\"\"\n",
    "        Void\n",
    "        \"\"\"\n",
    "        self.data = data"
   ]
  },
  {
   "cell_type": "code",
   "execution_count": 11,
   "metadata": {},
   "outputs": [
    {
     "name": "stdout",
     "output_type": "stream",
     "text": [
      "{'parameter': 5.0, 'data': array([0.51225322, 0.99571188, 0.72854996, 0.15526514, 0.50523882,\n",
      "       0.78370446, 0.52142716, 0.6385576 , 0.6078745 , 0.95217333])}\n"
     ]
    }
   ],
   "source": [
    "\n",
    "testdata = np.random.rand(10)\n",
    "\n",
    "# init testclass with parameter\n",
    "parameter = float(5.0)\n",
    "\n",
    "instance = testclass( parameter )\n",
    "\n",
    "# set data \n",
    "instance.set_data( testdata )\n",
    "\n",
    "print(instance.__dict__)"
   ]
  },
  {
   "cell_type": "code",
   "execution_count": 13,
   "metadata": {},
   "outputs": [],
   "source": [
    "# save whole class in file\n",
    "import pickle\n",
    "\n",
    "with open(\"test.obj\", \"wb\") as file_id:\n",
    "    pickle.dump(instance, file_id)"
   ]
  },
  {
   "cell_type": "code",
   "execution_count": 2,
   "metadata": {},
   "outputs": [],
   "source": [
    "# test recover old data after restarting kernel\n",
    "import pickle\n",
    "\n",
    "filename = r\"test.obj\"\n",
    "\n",
    "with open(filename, \"rb\") as f_id:\n",
    "    class_instance = pickle.load(f_id)\n"
   ]
  },
  {
   "cell_type": "code",
   "execution_count": 5,
   "metadata": {},
   "outputs": [
    {
     "name": "stdout",
     "output_type": "stream",
     "text": [
      "{'parameter': 5.0, 'data': array([0.51225322, 0.99571188, 0.72854996, 0.15526514, 0.50523882,\n",
      "       0.78370446, 0.52142716, 0.6385576 , 0.6078745 , 0.95217333])}\n",
      "<class 'numpy.ndarray'>\n"
     ]
    }
   ],
   "source": [
    "# test class instance\n",
    "print(class_instance.__dict__)\n",
    "print(type(class_instance.data))"
   ]
  },
  {
   "cell_type": "markdown",
   "metadata": {},
   "source": [
    "Setup class mit den daten wie zuvor"
   ]
  },
  {
   "cell_type": "code",
   "execution_count": 6,
   "metadata": {},
   "outputs": [
    {
     "name": "stdout",
     "output_type": "stream",
     "text": [
      "2018-05-30\n"
     ]
    }
   ],
   "source": [
    "# get aktuelles datum, um simulation zuordnent zu können\n",
    "from datetime import date\n",
    "\n",
    "print(str(date.today()))"
   ]
  },
  {
   "cell_type": "code",
   "execution_count": 32,
   "metadata": {},
   "outputs": [
    {
     "name": "stdout",
     "output_type": "stream",
     "text": [
      "{'filename': 'test', 'bla': 1}\n"
     ]
    }
   ],
   "source": [
    "# kwargs\n",
    "testdict = {\"filename\" : \"test\", \"bla\" :1}\n",
    "print(testdict)\n",
    "\n",
    "bla = None\n",
    "if not bla is None:\n",
    "    print(bla)"
   ]
  },
  {
   "cell_type": "code",
   "execution_count": 104,
   "metadata": {},
   "outputs": [
    {
     "data": {
      "text/plain": [
       "array([921.00042628, 933.82773972, 156.77960192, 835.12522959,\n",
       "       639.89082014, 112.83631804, 307.49891943,  99.14673004,\n",
       "       118.05842747, 143.58444581])"
      ]
     },
     "execution_count": 104,
     "metadata": {},
     "output_type": "execute_result"
    }
   ],
   "source": [
    "# test new setup class\n",
    "stp1 = Setup(  I = 500,\n",
    "\t\t            N = 2 ** 20,\n",
    "\t\t            Dt = 1e-4,\n",
    "\t\t            T = 300,\n",
    "\t\t            L = 10,\n",
    "\t\t            lengthscale = 1e9,\n",
    "\t\t            c0_in = 1.0,\n",
    "\t\t            DA = 1.0,\n",
    "\t\t            DC = 2.0,\n",
    "\t\t            D0_in = 1e-12,\n",
    "\t\t            epsilon = 1.0,\n",
    "\t\t            epsilon_m = 80.0,\n",
    "\t\t            testname = \"imp_diff_1\",\n",
    "    \t            model = 0,\n",
    "                   out_method = \"c_only\")\n",
    "\n",
    "testdata = np.random.rand(10)\n",
    "\n",
    "# test save current to setup obj\n",
    "stp1.set_current_data( testdata )\n",
    "\n",
    "stp1.__dict__.get(\"current_data\")"
   ]
  },
  {
   "cell_type": "code",
   "execution_count": 51,
   "metadata": {},
   "outputs": [],
   "source": [
    "# teste save method\n",
    "\n",
    "stp1.save(\"testi\")\n",
    "\n",
    "# --> klappt"
   ]
  },
  {
   "cell_type": "markdown",
   "metadata": {},
   "source": [
    "Brauche: init methode zum instanzieren von setup obj mit daten"
   ]
  },
  {
   "cell_type": "code",
   "execution_count": 54,
   "metadata": {},
   "outputs": [],
   "source": [
    "# test load from .sim file\n",
    "obj = Setup.load_setup(\"testi.sim\")\n",
    "print(obj.__dict__ )\n",
    "print(stp1.__dict__ )\n",
    "# --> works"
   ]
  },
  {
   "cell_type": "code",
   "execution_count": 64,
   "metadata": {},
   "outputs": [],
   "source": [
    "from pre_fun import createVoltage"
   ]
  },
  {
   "cell_type": "code",
   "execution_count": 113,
   "metadata": {},
   "outputs": [
    {
     "name": "stdout",
     "output_type": "stream",
     "text": [
      "Min Freq, Frequency Resolution Df [Hz]:  95.367431640625\n",
      "Min Freq, Frequency Resolution Df [None]:  0.0095367431640625\n",
      "Maximal Frequency, Nyquist [Hz]:  45454545.454545446\n",
      "Maximal Frequency, Nyquist [None]:  4545.454545454545\n",
      "Number of Points:  1048576\n",
      "Total Amplitude [mV]:  9.812537392585208\n"
     ]
    }
   ],
   "source": [
    "# Kovertiere bestehende simulationen zu den class instances\n",
    "path = r\"M:\\QMR\\Abteilungsprojekte\\FG\\local\\masterthesis\\test_environment\\old_impl\\pc1\"\n",
    "filename_list = [ r\"\\imp_diff_1_current.npy\",  r\"\\imp_diff_2_current.npy\",\n",
    "                 r\"\\imp_diff_3_current.npy\", r\"\\imp_diff_4_current.npy\"]\n",
    "\n",
    "current2 = np.load(path + filename_list[3])\n",
    "\n",
    "stp2 = Setup( \tI = 500,\n",
    "\t             \tN = 2 ** 20,\n",
    "\t             \tDt = 1e-4,\n",
    "\t     \t        T = 300,\n",
    "\t \t            L = 10,\n",
    "\t \t            lengthscale = 1e9,\n",
    "\t\t            c0_in = 1.0,\n",
    "\t\t            DA = 1.0,\n",
    "\t\t            DC = 20.0,\n",
    "\t\t            D0_in = 1e-12,\n",
    "\t\t            epsilon = 1.0,\n",
    "\t\t            epsilon_m = 80.0,\n",
    "\t\t            testname = \"imp_diff_4\",\n",
    "\t\t            model = 0,\n",
    "\t\t            out_method = \"c_only\" )\n",
    "\n",
    "voltage, t = createVoltage( stp2, 0.2 )\n",
    "\n",
    "stp2.set_current_data( current2 )\n",
    "\n",
    "stp2.set_input_voltage_data( voltage )\n",
    "\n",
    "stp2.save()"
   ]
  },
  {
   "cell_type": "code",
   "execution_count": 110,
   "metadata": {},
   "outputs": [
    {
     "data": {
      "text/plain": [
       "0.009812537392585207"
      ]
     },
     "execution_count": 110,
     "metadata": {},
     "output_type": "execute_result"
    }
   ],
   "source": [
    "stp2.input_voltage_data.max() - stp2.input_voltage_data.min()"
   ]
  },
  {
   "cell_type": "code",
   "execution_count": 96,
   "metadata": {},
   "outputs": [],
   "source": [
    "seti = Setup.load_setup(\"imp_diff_4.sim\")"
   ]
  },
  {
   "cell_type": "code",
   "execution_count": 97,
   "metadata": {},
   "outputs": [
    {
     "data": {
      "text/plain": [
       "array([[ True,  True,  True, ...,  True,  True,  True],\n",
       "       [ True,  True,  True, ...,  True,  True,  True]])"
      ]
     },
     "execution_count": 97,
     "metadata": {},
     "output_type": "execute_result"
    }
   ],
   "source": [
    "seti.current_data == current2"
   ]
  },
  {
   "cell_type": "markdown",
   "metadata": {},
   "source": [
    "Automatic conversion of simulated impedance currents to mA/cm^2"
   ]
  },
  {
   "cell_type": "code",
   "execution_count": 98,
   "metadata": {},
   "outputs": [
    {
     "data": {
      "text/plain": [
       "{'D0': 1000000.0,\n",
       " 'DA': 1.0,\n",
       " 'DC': 20.0,\n",
       " 'Dt': 0.0001,\n",
       " 'I': 500,\n",
       " 'L': 10,\n",
       " 'N': 1048576,\n",
       " 'T': 300,\n",
       " 'T0': 0.0001,\n",
       " 'c0': 0.6022140857,\n",
       " 'chi1': 1.0,\n",
       " 'chi2': 526.9004702828952,\n",
       " 'current_data': array([[ 0.        ,  0.        ,  0.89272907, ...,  0.38704121,\n",
       "         -0.49089858,  0.76978086],\n",
       "        [ 0.        ,  0.        , -0.8927123 , ..., -0.38705012,\n",
       "          0.49088382, -0.76978637]]),\n",
       " 'epsilon': 1.0,\n",
       " 'epsilon_m': 80.0,\n",
       " 'input_voltage_data': array([ 0.        ,  0.07865603,  0.05970851, ..., -0.07155604,\n",
       "        -0.05970851, -0.07865603]),\n",
       " 'lengthscale': 1000000000.0,\n",
       " 'model': 0,\n",
       " 'out_method': 'c_only',\n",
       " 'phi0': 0.025851991011651636,\n",
       " 'simulation_date': '2018-05-30',\n",
       " 'testname': 'imp_diff_4'}"
      ]
     },
     "execution_count": 98,
     "metadata": {},
     "output_type": "execute_result"
    }
   ],
   "source": [
    "seti.__dict__"
   ]
  },
  {
   "cell_type": "markdown",
   "metadata": {},
   "source": [
    "2018 05 31\n",
    "-------------\n",
    "\n",
    "To dos:\n",
    "\n",
    "- [X] Schreibe Solver für single voltage pertubation\n",
    "       + [ ] vllt. optional **kwarg argument ?\n",
    "       + [X] mod setup class --> soll auch sol daten speichern\n",
    "- [X] mod setup class: wenn randbedingugnen gegeben sind, dann muss auch model parameter auf 1,2\n",
    "\n",
    "Wie verändert sich equilibrium bei model 1?\n",
    "- [ ] "
   ]
  },
  {
   "cell_type": "code",
   "execution_count": 2,
   "metadata": {},
   "outputs": [
    {
     "data": {
      "text/plain": [
       "12.49861111111111"
      ]
     },
     "execution_count": 2,
     "metadata": {},
     "output_type": "execute_result"
    }
   ],
   "source": []
  },
  {
   "cell_type": "code",
   "execution_count": 138,
   "metadata": {},
   "outputs": [],
   "source": [
    "class Setup():\n",
    "    \"\"\"\n",
    "\n",
    "\n",
    "    Simulation Types:\n",
    "        - single_const:\n",
    "\n",
    "            Constant\n",
    "\n",
    "        c_only_imp\n",
    "\n",
    "        full_imp\n",
    "\n",
    "\n",
    "    \"\"\"\n",
    "    ELE_CHARGE = 1.6021766208e-19 # [Coulomb], constant value\n",
    "    AVOGADRO_CONST = 6.022140857e23 # [1/mol]\n",
    "    EPSILON_VAC = 8.854187817e-12 # original value in [Farad/m],\n",
    "    BOLTZMANN_CONST = 1.38064852e-23 # [Joule/Kelvin], constant value\n",
    "\n",
    "\n",
    "    def __init__( self, I, N, Dt, T, L, lengthscale, c0_in, DA, DC, D0_in, \n",
    "                 epsilon, epsilon_m, testname, model, sim_method, kA, kC, foxA, foxC, **kwargs ):\n",
    "\n",
    "        self.I = I\n",
    "        self.N = N\n",
    "        self.Dt = Dt\n",
    "        self.T = T\n",
    "        self.L = L\n",
    "        self.lengthscale = lengthscale\n",
    "        self.c0 = c0_in * self.AVOGADRO_CONST * 1e3 * ( lengthscale ) ** (-3)\n",
    "        self.DA = DA\n",
    "        self.DC = DC\n",
    "        self.D0 = D0_in * (lengthscale ) ** 2\n",
    "        self.epsilon = epsilon\n",
    "        self.epsilon_m = epsilon_m\n",
    "        self.testname = testname\n",
    "\n",
    "        # reaction boundary conditions\n",
    "        self.kA = kA\n",
    "        self.kC = kC\n",
    "        self.foxA = foxA\n",
    "        self.foxC = foxC\n",
    "\n",
    "        # possible output method:\n",
    "        #                        - full: saves current and full solution vector\n",
    "        #                        - c_only: saves only current, avoid saving whole solution in order to save memory\n",
    "\n",
    "        self.sim_method = sim_method\n",
    "\n",
    "        self.phi0 = ( self.BOLTZMANN_CONST * T) / self.ELE_CHARGE\n",
    "\n",
    "        self.chi2 = ( self.c0 * lengthscale * (self.ELE_CHARGE * self.L) ** 2 /\n",
    "                     (self.epsilon_m * self.EPSILON_VAC * self.BOLTZMANN_CONST * T) )\n",
    "\n",
    "        self.chi1 = 1.0\n",
    "\n",
    "        self.T0 = self.L ** 2 / self.D0\n",
    "        \n",
    "        # call setter methods\n",
    "        self.set_ref_flux()\n",
    "        \n",
    "        # call setter method for model\n",
    "        self.set_model( model )\n",
    "        \n",
    "        # keyword args\n",
    "        self.steady_state_tol = kwargs.get('steady_state_tol', 1e-7)\n",
    "           \n",
    "#--------- setter methods ------------------------------------------------------------\n",
    "    def set_ref_flux( self ):\n",
    "        \n",
    "        self.f0 = self.L * self.c0 / self.T0\n",
    "    \n",
    "    def set_model( self, model ):\n",
    "        \"\"\"\n",
    "        Setter method for model\n",
    "        Void\n",
    "        \"\"\"\n",
    "        test_attr = ['kA', 'kC', 'foxA', 'foxC']\n",
    "        logical_list = []\n",
    "        \n",
    "        if model == 0:\n",
    "            \n",
    "            for element in test_attr:\n",
    "            \n",
    "                try:\n",
    "                \n",
    "                    if not getattr( self, element) == 0:\n",
    "                    \n",
    "                        raise ValueError('Model and boundary conditiosn mismatch!')\n",
    "                \n",
    "                except AttributeError:\n",
    "                    \n",
    "                    pass\n",
    "                \n",
    "            self.model = model\n",
    "                    \n",
    "        else:\n",
    "            \n",
    "            for element in test_attr:\n",
    "            \n",
    "                try:\n",
    "                \n",
    "                    if getattr( self, element) == 0:\n",
    "                    \n",
    "                        logical_list.append(True)\n",
    "                \n",
    "                except AttributeError:\n",
    "                    \n",
    "                    self.model = model\n",
    "            \n",
    "            if logical_list.__len__() == test_attr.__len__():\n",
    "                \n",
    "               raise ValueError('Model and boundary conditions mismatch!')\n",
    "            \n",
    "            else:\n",
    "                \n",
    "                self.model = model    \n",
    "    \n",
    "#----- setter methods for simulation data ------------------------------------------------------------\n",
    "    def set_current_data( self, current ):\n",
    "        \"\"\"\n",
    "        Save simulated current data automatically converted to mA / cm^2\n",
    "        Void\n",
    "        \"\"\"\n",
    "        \n",
    "        # check input\n",
    "        if not isinstance(current, np.ndarray):\n",
    "            \n",
    "            raise TypeError(\"Current data is not Numpy array!\")\n",
    "        \n",
    "        # automatically convert to mA / cm^2\n",
    "        self.current_data = current * self.f0 * self.ELE_CHARGE * 1e17\n",
    "        self.simulation_date = str(date.today())\n",
    "        \n",
    "    def set_input_voltage_data( self, voltage, nondim = True ):\n",
    "        \"\"\"\n",
    "        Create pertubation voltage data automatically converted to V\n",
    "        Void\n",
    "        \"\"\"\n",
    "        \n",
    "        # check input        \n",
    "        if isinstance( voltage, np.ndarray ):\n",
    "            \n",
    "            if nondim == True:\n",
    "\n",
    "                self.input_voltage_data = voltage / self.phi0\n",
    "            \n",
    "            else:\n",
    "\n",
    "                self.input_voltage_data = voltage\n",
    "\n",
    "        elif isinstance( voltage, float ):\n",
    "            \"\"\"\n",
    "            Works for single_const sim method\n",
    "            \"\"\"\n",
    "            # check sim_method\n",
    "            if self.sim_method == 'single_const':\n",
    "\n",
    "                # allocate\n",
    "                self.input_voltage_data = np.zeros( self.N, dtype = np.float64)\n",
    "\n",
    "                if nondim == True:\n",
    "                    \n",
    "                    self.input_voltage_data += voltage / self.phi0\n",
    "\n",
    "                else:\n",
    "\n",
    "                    self.input_voltage_data += voltage\n",
    "\n",
    "            else:\n",
    "                \n",
    "                raise ValueError('Voltage input and sim method mismatch!')\n",
    "    \n",
    "        else:\n",
    "            \n",
    "            raise TypeError(\"Wrong data type for voltage input!\")\n",
    "            \n",
    "        \n",
    "        \n",
    "    def set_sol_data( self, sol ):\n",
    "        \"\"\"\n",
    "        Save solution matrix. Automatic convert to M and mV\n",
    "        Void\n",
    "        \"\"\"\n",
    "        \n",
    "        # check input\n",
    "        if not isinstance(sol, np.ndarray):\n",
    "            \n",
    "            raise TypeError(\"Sol data is not Numpy array!\")\n",
    "        \n",
    "        # convert to potential to mV\n",
    "        sol[2*self.I:3*self.I,:] *= self.phi0 * 1e3\n",
    "        \n",
    "        self.sol_data = sol\n",
    "\n",
    "#------- load and save methods -------------------------------------------------------------------\n",
    "    @classmethod\n",
    "    def load_setup( cls, filename ):\n",
    "        \"\"\"\n",
    "        Load setup object from .sim file with 'pickle' and return class instance with data\n",
    "        \"\"\"\n",
    "        if not isinstance(filename, str):\n",
    "\n",
    "                raise TypeError(\"Optional filename is not a string!\")\n",
    "        \n",
    "        with open(filename, \"rb\") as f_id:\n",
    "            class_instance = pickle.load(f_id)\n",
    "        \n",
    "        return class_instance\n",
    "    \n",
    "    def save( self, filename_in = None ):\n",
    "        \"\"\"\n",
    "        Save setup object including all data using pickle as obj file.\n",
    "        Void\n",
    "        \"\"\"\n",
    "        if filename_in is None:\n",
    "            \n",
    "            filename = self.testname + \".sim\"\n",
    "            \n",
    "        else:\n",
    "        \n",
    "            # check if filename is a string\n",
    "            if not isinstance(filename_in, str):\n",
    "\n",
    "                raise TypeError(\"Optional filename is not a string!\")\n",
    "            \n",
    "            else:\n",
    "                \n",
    "                filename = filename_in + \".sim\"\n",
    "        \n",
    "        \n",
    "        with open(filename, \"wb\") as file_id:\n",
    "            pickle.dump( self, file_id)\n",
    "\n",
    "#--------- simulation related methods -------------------------------------------------------------\n",
    "    def create_time_axis( self,):\n",
    "        \"\"\"\n",
    "        Create time axis from a instance with given N and Dt\n",
    "        \"\"\"\n",
    "        \n",
    "        # create time axis\n",
    "        t = np.zeros(N, dtype = np.float64)\n",
    "        for j in range(0,N):\n",
    "\n",
    "            t[j] = j * Dt\n",
    "            \n",
    "        return t,"
   ]
  },
  {
   "cell_type": "code",
   "execution_count": null,
   "metadata": {},
   "outputs": [],
   "source": [
    "# teste set tolerance für solver "
   ]
  },
  {
   "cell_type": "code",
   "execution_count": 115,
   "metadata": {},
   "outputs": [
    {
     "name": "stdout",
     "output_type": "stream",
     "text": [
      "[[5. 5. 5.]\n",
      " [5. 5. 5.]\n",
      " [1. 1. 1.]]\n"
     ]
    }
   ],
   "source": [
    "# Test numpy multiplication without copying and slicing\n",
    "a = np.ones([3,3], dtype = np.float64)\n",
    "\n",
    "a[0:2,:] *= 5\n",
    "print(a)"
   ]
  },
  {
   "cell_type": "code",
   "execution_count": 121,
   "metadata": {},
   "outputs": [
    {
     "name": "stdout",
     "output_type": "stream",
     "text": [
      "[0.  0.4 0.4 0.4 0.4 0.4 0.4 0.4 0.4 0.4 0.4 0.4 0.4 0.4 0.4 0.4 0.4 0.4\n",
      " 0.4 0.4 0.4 0.4 0.4 0.4 0.4 0.4 0.4 0.4 0.4 0.4 0.4 0.4 0.4 0.4 0.4 0.4\n",
      " 0.4 0.4 0.4 0.4 0.4 0.4 0.4 0.4 0.4 0.4 0.4 0.4 0.4 0.4 0.4 0.4 0.4 0.4\n",
      " 0.4 0.4 0.4 0.4 0.4 0.4 0.4 0.4 0.4 0.4 0.4 0.4 0.4 0.4 0.4 0.4 0.4 0.4\n",
      " 0.4 0.4 0.4 0.4 0.4 0.4 0.4 0.4 0.4 0.4 0.4 0.4 0.4 0.4 0.4 0.4 0.4 0.4\n",
      " 0.4 0.4 0.4 0.4 0.4 0.4 0.4 0.4 0.4 0.4]\n"
     ]
    }
   ],
   "source": [
    "# Teste sim type mit single_constant voltage\n",
    "\n",
    "def single_const( U0, phi0, N ):\n",
    "\n",
    "    # allocate\n",
    "    volt = np.zeros(N, dtype = np.float64)\n",
    "    \n",
    "    volt[1:] += U0 / phi0\n",
    "    \n",
    "    return volt\n",
    "\n",
    "U0 = 0.010\n",
    "N = 100\n",
    "phi0 = 0.025\n",
    "phiC = single_const(U0, phi0, N)\n",
    "\n",
    "print(phiC)"
   ]
  },
  {
   "cell_type": "code",
   "execution_count": null,
   "metadata": {},
   "outputs": [],
   "source": [
    "# getter method for voltage\n"
   ]
  },
  {
   "cell_type": "code",
   "execution_count": 137,
   "metadata": {},
   "outputs": [
    {
     "data": {
      "text/plain": [
       "array([0.02585199, 0.02585199, 0.02585199, 0.02585199, 0.02585199,\n",
       "       0.02585199, 0.02585199, 0.02585199, 0.02585199, 0.02585199])"
      ]
     },
     "execution_count": 137,
     "metadata": {},
     "output_type": "execute_result"
    }
   ],
   "source": [
    "stp4 = Setup(  I = 500,\n",
    "                    N = 2 ** 5,\n",
    "                    Dt = 1e-4,\n",
    "                    T = 300,\n",
    "                    L = 10,\n",
    "                    lengthscale = 1e9,\n",
    "                    c0_in = 1.0,\n",
    "                    DA = 1.0,\n",
    "                    DC = 2.0,\n",
    "                    D0_in = 1e-12,\n",
    "                    epsilon = 1.0,\n",
    "                    epsilon_m = 80.0,\n",
    "                    testname = \"imp_model_1_4\",\n",
    "                    model = 1,\n",
    "                   sim_method = \"single_const\",\n",
    "                   kA = 1e1,\n",
    "                   kC = 1e1,\n",
    "                   foxA = 0.5e1,\n",
    "                   foxC = 0.05e1,\n",
    "                   testtype = \"impedance\" )\n",
    "\n",
    "stp4.set_input_voltage_data( np.ones(10))\n",
    "\n",
    "stp4.input_voltage_data"
   ]
  },
  {
   "cell_type": "code",
   "execution_count": 148,
   "metadata": {},
   "outputs": [
    {
     "name": "stdout",
     "output_type": "stream",
     "text": [
      "0\n",
      "1\n",
      "2\n",
      "3\n",
      "4\n",
      "5\n",
      "6\n",
      "7\n",
      "8\n",
      "[0.4644     1.22383677 2.17921637 3.97033279 4.12467304 5.00664251\n",
      " 6.05038755 7.87214735 8.69402423 0.89367846]\n",
      "[0.4644     1.22383677 2.17921637 3.97033279 4.12467304 5.00664251\n",
      " 6.05038755 7.87214735 8.69402423]\n",
      "9\n",
      "8\n",
      "[0.4644     1.22383677 2.17921637 3.97033279 4.12467304 5.00664251\n",
      " 6.05038755 7.87214735 8.69402423]\n"
     ]
    }
   ],
   "source": [
    "a = np.random.rand(10)\n",
    "\n",
    "for j in range(9):\n",
    "    print(j)\n",
    "    a[j] += j\n",
    "    \n",
    "\n",
    "print(a)\n",
    "print(a[:j+1])\n",
    "print(a[:j+1].size)\n",
    "print(j)\n",
    "b = a[:j+1]\n",
    "print(b)"
   ]
  },
  {
   "cell_type": "code",
   "execution_count": 154,
   "metadata": {},
   "outputs": [
    {
     "name": "stdout",
     "output_type": "stream",
     "text": [
      "[5.00664251 6.05038755 7.87214735 8.69402423 0.89367846]\n"
     ]
    }
   ],
   "source": [
    "a = a[5:]\n",
    "\n",
    "print(a)"
   ]
  },
  {
   "cell_type": "code",
   "execution_count": 160,
   "metadata": {},
   "outputs": [
    {
     "data": {
      "text/plain": [
       "array([0.5, 0.5, 0.5, 0.5, 0.5])"
      ]
     },
     "execution_count": 160,
     "metadata": {},
     "output_type": "execute_result"
    }
   ],
   "source": [
    "def test(a, nondim = True):\n",
    "    \n",
    "    if nondim == False:\n",
    "        b = np.ones(5) * a / 10\n",
    "    else:\n",
    "        b = np.ones(5) * a * 10\n",
    "    \n",
    "    return b\n",
    "\n",
    "test(5, nondim = False)"
   ]
  },
  {
   "cell_type": "code",
   "execution_count": null,
   "metadata": {},
   "outputs": [],
   "source": [
    "# set pertubation voltage\n",
    "stp4.set_input_voltage_data( 10e-3 )\n",
    "\n",
    "\n",
    "t1 = clock()\n",
    "\n",
    "# start multiprocessing\n",
    "mp.Process( target = solver, args = ( stp4, ))\n",
    "# p2 = mp.Process( target = solver, args = ( stp2, reaction_bc, phiC, ))\n",
    "# p3 = mp.Process( target = solver, args = ( stp3, reaction_bc, phiC, ))\n",
    "# p4 = mp.Process( target = solver, args = ( stp4, reaction_bc, phiC, ))\n",
    "\n",
    "# start single processes\n",
    "p1.start()\n",
    "# p2.start()\n",
    "# p3.start()\n",
    "# p4.start()\n",
    "\n",
    "# wait until processes are finished\n",
    "p1.join()\n",
    "# p2.join()\n",
    "# p3.join()\n",
    "# p4.join()\n",
    "\n",
    "t2 = clock()\n",
    "\n",
    "print(\"Overall Simulation Time [s]: \", (t2 - t1)  )"
   ]
  },
  {
   "cell_type": "code",
   "execution_count": 190,
   "metadata": {},
   "outputs": [
    {
     "data": {
      "text/plain": [
       "6.0"
      ]
     },
     "execution_count": 190,
     "metadata": {},
     "output_type": "execute_result"
    }
   ],
   "source": [
    "a = [ np.ones(5), 6* np.ones(5), ]\n",
    "\n",
    "\n",
    "max([ el[0:2].max() for el in a ])\n",
    "    "
   ]
  },
  {
   "cell_type": "markdown",
   "metadata": {},
   "source": [
    "01.06.2018\n",
    "------------"
   ]
  },
  {
   "cell_type": "code",
   "execution_count": 9,
   "metadata": {},
   "outputs": [
    {
     "name": "stdout",
     "output_type": "stream",
     "text": [
      "[0.  0.1 0.2 0.3 0.4 0.5 0.6 0.7 0.8 0.9 1.  1.1 1.2 1.3 1.4 1.5 1.6 1.7\n",
      " 1.8 1.9 2.  2.1 2.2 2.3 2.4 2.5 2.6 2.7 2.8 2.9 3.  3.1 3.2 3.3 3.4 3.5\n",
      " 3.6 3.7 3.8 3.9 4.  4.1 4.2 4.3 4.4 4.5 4.6 4.7 4.8 4.9 5.  5.1 5.2 5.3\n",
      " 5.4 5.5 5.6 5.7 5.8 5.9 6.  6.1 6.2 6.3 6.4 6.5 6.6 6.7 6.8 6.9 7.  7.1\n",
      " 7.2 7.3 7.4 7.5 7.6 7.7 7.8 7.9 8.  8.1 8.2 8.3 8.4 8.5 8.6 8.7 8.8 8.9\n",
      " 9.  9.1 9.2 9.3 9.4 9.5 9.6 9.7 9.8 9.9]\n"
     ]
    }
   ],
   "source": [
    "Dt = 0.1\n",
    "N = 10\n",
    "\n",
    "print(np.arange(0,N, Dt))"
   ]
  }
 ],
 "metadata": {
  "kernelspec": {
   "display_name": "Python 3",
   "language": "python",
   "name": "python3"
  },
  "language_info": {
   "codemirror_mode": {
    "name": "ipython",
    "version": 3
   },
   "file_extension": ".py",
   "mimetype": "text/x-python",
   "name": "python",
   "nbconvert_exporter": "python",
   "pygments_lexer": "ipython3",
   "version": "3.6.5"
  }
 },
 "nbformat": 4,
 "nbformat_minor": 2
}
