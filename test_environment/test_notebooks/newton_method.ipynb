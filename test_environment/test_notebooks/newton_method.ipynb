{
 "cells": [
  {
   "cell_type": "code",
   "execution_count": 13,
   "metadata": {},
   "outputs": [],
   "source": [
    "import numpy as np\n",
    "import matplotlib.pyplot as plt\n",
    "from scipy.optimize import newton_krylov\n",
    "from time import clock as clock"
   ]
  },
  {
   "cell_type": "code",
   "execution_count": 12,
   "metadata": {},
   "outputs": [
    {
     "name": "stdout",
     "output_type": "stream",
     "text": [
      "{'preconditioner': <scipy.optimize.nonlin.InverseJacobian object at 0x7f00bebee0f0>, 'rdiff': None, 'method': <function lgmres at 0x7f00cc098378>, 'method_kw': {'maxiter': 1, 'M': <scipy.optimize.nonlin.InverseJacobian object at 0x7f00bebee0f0>, 'outer_k': 10, 'outer_v': [], 'prepend_outer_v': True, 'store_outer_Av': False, 'atol': 0}}\n"
     ]
    }
   ],
   "source": [
    "# Newton parameter\n",
    "max_Newton_iter = 10\n",
    "\n",
    "# structure of Newtons method\n",
    "\n",
    "# iteration over k\n",
    "for k in range(0, max_Newton_iter):\n",
    "\n",
    "    # solve the linear system --> GMRES\n",
    "\n",
    "    # update solution vector\n",
    "\n",
    "    # check convergence\n",
    "\n"
   ]
  }
 ],
 "metadata": {
  "kernelspec": {
   "display_name": "Python 3",
   "language": "python",
   "name": "python3"
  },
  "language_info": {
   "codemirror_mode": {
    "name": "ipython",
    "version": 3
   },
   "file_extension": ".py",
   "mimetype": "text/x-python",
   "name": "python",
   "nbconvert_exporter": "python",
   "pygments_lexer": "ipython3",
   "version": "3.6.5"
  }
 },
 "nbformat": 4,
 "nbformat_minor": 2
}
