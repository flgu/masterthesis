{
 "cells": [
  {
   "cell_type": "code",
   "execution_count": 1,
   "metadata": {
    "scrolled": true
   },
   "outputs": [
    {
     "name": "stdout",
     "output_type": "stream",
     "text": [
      "[10.336886 10.705173 10.645745 ... 10.69674  10.394347 10.204296]\n"
     ]
    }
   ],
   "source": [
    "import math\n",
    "from numba import vectorize, cuda\n",
    "import numpy as np\n",
    "\n",
    "@vectorize(['float32(float32, float32, float32)',\n",
    "            'float64(float64, float64, float64)'],\n",
    "           target='cuda')\n",
    "def cu_discriminant(a, b, c):\n",
    "    return math.sqrt(b ** 2 - 4 * a * c)\n",
    "\n",
    "N = int(1e+4)\n",
    "dtype = np.float32\n",
    "\n",
    "# prepare the input\n",
    "A = np.array(np.random.sample(N), dtype=dtype)\n",
    "B = np.array(np.random.sample(N) + 10, dtype=dtype)\n",
    "C = np.array(np.random.sample(N), dtype=dtype)\n",
    "\n",
    "D = cu_discriminant(A, B, C)\n",
    "\n",
    "print(D)  # print result"
   ]
  },
  {
   "cell_type": "code",
   "execution_count": 3,
   "metadata": {},
   "outputs": [],
   "source": [
    "from numba import vectorize, cuda\n",
    "\n",
    "# define a device function\n",
    "@cuda.jit('float32(float32, float32, float32)', device=True, inline=True)\n",
    "def cu_device_fn(x, y, z):\n",
    "    return x ** y / z\n",
    "\n",
    "# define a ufunc that calls our device function\n",
    "@vectorize(['float32(float32, float32, float32)'], target='cuda')\n",
    "def cu_ufunc(x, y, z):\n",
    "    return cu_device_fn(x, y, z)"
   ]
  },
  {
   "cell_type": "code",
   "execution_count": null,
   "metadata": {},
   "outputs": [],
   "source": [
    "def vecAdd()"
   ]
  }
 ],
 "metadata": {
  "kernelspec": {
   "display_name": "Python 3",
   "language": "python",
   "name": "python3"
  },
  "language_info": {
   "codemirror_mode": {
    "name": "ipython",
    "version": 3
   },
   "file_extension": ".py",
   "mimetype": "text/x-python",
   "name": "python",
   "nbconvert_exporter": "python",
   "pygments_lexer": "ipython3",
   "version": "3.6.5"
  }
 },
 "nbformat": 4,
 "nbformat_minor": 2
}
