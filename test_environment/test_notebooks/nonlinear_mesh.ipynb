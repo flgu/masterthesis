{
 "cells": [
  {
   "cell_type": "code",
   "execution_count": 7,
   "metadata": {},
   "outputs": [],
   "source": [
    "import numpy as np\n",
    "import matplotlib.pyplot as plt\n",
    "from scipy.optimize import newton_krylov\n",
    "from time import clock as clock\n",
    "import scipy.sparse.linalg as spla"
   ]
  },
  {
   "cell_type": "markdown",
   "metadata": {},
   "source": [
    "Testing nonlinear mesh with diffusion equation only and no flux boundary conditions (no source terms). We assume a constant diffusion constant.\n",
    "\n",
    "Flux:\n",
    "$$ f = -D \\partial_x c(x,t) $$\n",
    "\n",
    "Conservation law:\n",
    "$$ \\partial_t c(x,t) = - \\partial_x f = - \\partial_x \\left( -D \\partial_x c(x,t) \\right)$$\n",
    "\n",
    "Spatial axis $ x \\in [0,1] $ - one dimensional. Cell centers vector x"
   ]
  },
  {
   "cell_type": "markdown",
   "metadata": {},
   "source": [
    "Nondimensionalization\n",
    "\n",
    "$$ t = \\frac{ \\tilde{t} }{ T_0 } $$\n",
    "$$ x = \\frac{ \\tilde{x} }{ L }  $$\n",
    "$$ D = \\frac{ \\tilde{D} }{ D_0 } $$\n",
    "\n",
    "$$ \\frac{1}{T_0} \\partial_t c(x,t) = \\frac{D_0}{L^2} \\left( D \\partial_x c(x,t) \\right) $$\n",
    "\n",
    "Reference Time\n",
    "\n",
    "$$ T_0 = M \\cdot \\frac{L^2}{D_0} $$\n",
    "\n",
    "Plugging this into the equation\n",
    "\n",
    "$$ \\frac{D_0}{M L^2} \\partial_t c(x,t) = \\frac{D_0}{L^2} \\left( D \\partial_x c(x,t) \\right) $$\n",
    "\n",
    "$$ \\partial_t c(x,t) = M \\left( D \\partial_x c(x,t) \\right) $$"
   ]
  },
  {
   "cell_type": "markdown",
   "metadata": {},
   "source": [
    "Diffusion only with BDF1 time discretization.\n",
    "\n",
    "$$ f_{i+1,j} = -D_{i} \\frac{2 \\left( c_{i+1,j} - c_{i,j} \\right)}{\\Delta x_{i+1} + \\Delta x_i} $$\n",
    "\n",
    "spatial index $i$ and time index $j$\n",
    "\n",
    "$$ \\frac{ c_{i,j} - c_{i,j-1} }{\\Delta t} = -\\frac{M}{\\Delta x_i} \\left( -D_{i+1} \\frac{2 \\left( c_{i+1} - c_i \\right)}{\\Delta x_{i+1} + \\Delta x_i} + D_{i} \\frac{2 \\left( c_{i} - c_{i-1} \\right)}{\\Delta x_{i} + \\Delta x_{i-1}} \\right) $$\n",
    "\n",
    "$$ c_{i,j} - c_{i,j-1} + \\frac{M \\cdot\\Delta t}{\\Delta x_i} \\left( -D_{i+1} \\frac{2 \\left( c_{i+1} - c_i \\right)}{\\Delta x_{i+1} + \\Delta x_i} + D_{i} \\frac{2 \\left( c_{i} - c_{i-1} \\right)}{\\Delta x_{i} + \\Delta x_{i-1}} \\right) = 0 $$"
   ]
  },
  {
   "cell_type": "markdown",
   "metadata": {},
   "source": [
    "Jacobian calculation, only take the derivative for the actual time index $j$\n",
    "\n",
    "$$ \\partial_{c_{m,j}} \\left[ c_{i,j} - c_{i,j-1} + \\frac{ M \\cdot \\Delta t}{\\Delta x_i} \\left( -D_{i+1} \\frac{2 \\left( c_{i+1} - c_i \\right)}{\\Delta x_{i+1} + \\Delta x_i} + D_{i} \\frac{2 \\left( c_{i} - c_{i-1} \\right)}{\\Delta x_{i} + \\Delta x_{i-1}} \\right) \\right]$$\n",
    "\n",
    "$$  \\delta_{m,i}  + \\frac{ M \\cdot  \\Delta t}{\\Delta x_i} \\left( - \\frac{2 D_{i+1}}{\\Delta x_{i+1} + \\Delta x_i}\\left( \\delta_{m,i+1} - \\delta_{m,i} \\right) +  \\frac{2 D_{i}}{\\Delta x_{i} + \\Delta x_{i-1}}\\left( \\delta_{m,i} - \\delta_{m,i-1} \\right) \\right) $$\n",
    "\n",
    "Boundary $i=0$\n",
    "\n",
    "$$ \\partial_{c_{m,j}} \\left[ c_{0,j} - c_{0,j-1} + \\frac{ M \\cdot \\Delta t}{\\Delta x_0} \\left( -D_{1} \\frac{2 \\left( c_{1} - c_0 \\right)}{\\Delta x_{1} + \\Delta x_0} \\right)\\right]$$\n",
    "\n",
    "$$ \\delta_{m,0} - \\frac{ M \\cdot 2D_{1}\\Delta t}{\\Delta x_0\\left( \\Delta x_{1} + \\Delta x_0 \\right)}\\left( \\delta_{m,1} - \\delta_{m,0} \\right) $$\n",
    "\n",
    "Boundary $i=I-1$\n",
    "\n",
    "$$ \\partial_{c_{m,j}} \\left[ c_{I-1,j} - c_{I-1,j-1} + \\frac{ M \\cdot \\Delta t}{\\Delta x_{I-1}} \\left( D_{I-1} \\frac{2 \\left( c_{I-1} - c_{I-2} \\right)}{\\Delta x_{I-1} + \\Delta x_{I-2}} \\right) \\right]$$\n",
    "\n",
    "$$ \\delta_{m,I-1} + \\frac{ M \\cdot 2D_{I-1}\\Delta t}{\\Delta x_{I-1}\\left( \\Delta x_{I-1} + \\Delta x_{I-2} \\right)}\\left( \\delta_{m,I-1} - \\delta_{m,I-2} \\right)  $$"
   ]
  },
  {
   "cell_type": "markdown",
   "metadata": {},
   "source": [
    "Tridiagonal Matrix\n",
    "\n",
    "$$ A_{i,i-1} = -\\frac{M \\cdot 2D_i\\Delta t}{\\Delta x_i \\left( \\Delta x_i + \\Delta x_{i-1} \\right)}  $$\n",
    "$$ A_{i,i} = 1 + \\frac{M \\cdot 2\\Delta t}{\\Delta x_i} \\left( \\frac{D_{i+1}}{\\Delta x_{i+1} + \\Delta x_{i}} + \\frac{D_{i}}{\\Delta x_{i} + \\Delta x_{i-1}} \\right) $$\n",
    "$$ A_{i,i+1} = -\\frac{M \\cdot 2D_{i+1}\\Delta t}{\\Delta x_i\\left( \\Delta x_{i+1} + \\Delta x_i \\right)} $$\n",
    "\n",
    "Boundary $i=0$\n",
    "\n",
    "$$ A_{0,0} = 1 +  \\frac{M \\cdot 2D_{1}\\Delta t}{\\Delta x_0\\left( \\Delta x_{1} + \\Delta x_0 \\right)} $$\n",
    "$$ A_{0,1} = - \\frac{M \\cdot 2D_1\\Delta t}{\\Delta x_0 \\left( \\Delta x_1 + \\Delta x_0 \\right)} $$\n",
    "\n",
    "Boundary $i=I-1$:\n",
    "\n",
    "$$ A_{I-1,I-2} = - \\frac{M \\cdot 2D_{I-1}\\Delta t}{\\Delta x_{I-1}\\left( \\Delta x_{I-1} + \\Delta x_{I-2} \\right)} $$\n",
    "\n",
    "$$ A_{I-1,I-1} =1 + \\frac{M \\cdot 2D_{I-1}\\Delta t}{\\Delta x_{I-1}\\left( \\Delta x_{I-1} + \\Delta x_{I-2} \\right)} $$"
   ]
  },
  {
   "cell_type": "code",
   "execution_count": 35,
   "metadata": {},
   "outputs": [],
   "source": [
    "def Jacobian( I, Dx, D, Dt, M ):\n",
    "    \n",
    "    A = np.zeros([I,I], dtype = np.float64)\n",
    "    \n",
    "    # boundary i=0\n",
    "    A[0,0] = 1 + 2 * D[1] * Dt / ( Dx[0] * (Dx[1] + Dx[0]) )\n",
    "    A[0,1] = -2 * D[1] * Dt / ( Dx[0] * (Dx[1] + Dx[0]) )\n",
    "    \n",
    "    # inner points\n",
    "    for i in range(1,I-1):\n",
    "        A[i,i-1] = -2 * Dt * D[i] / ( Dx[i] * (Dx[i] + Dx[i-1]) )\n",
    "        A[i,i] = 1 + 2 * Dt * ( D[i+1] / (Dx[i+1] + Dx[i]) + D[i] / (Dx[i] + Dx[i-1]) ) / Dx[i]\n",
    "        A[i,i+1] = -2 * Dt * D[i+1] / ( Dx[i] * (Dx[i+1] + Dx[i]) )\n",
    "    \n",
    "    # boundary i=I-1\n",
    "    A[I-1,I-2] = -2 * Dt * D[I-1] / ( Dx[I-1] * (Dx[I-1] + Dx[I-2]) )\n",
    "    A[I-1,I-1] = 1 + 2 * Dt * D[I-1] / ( Dx[I-1] * (Dx[I-1] + Dx[I-2]) )\n",
    "    \n",
    "    return A"
   ]
  },
  {
   "cell_type": "code",
   "execution_count": 4,
   "metadata": {},
   "outputs": [
    {
     "name": "stdout",
     "output_type": "stream",
     "text": [
      "[0.005 0.015 0.025 0.035 0.045 0.055 0.065 0.075 0.085 0.095 0.105 0.115\n",
      " 0.125 0.135 0.145 0.155 0.165 0.175 0.185 0.195 0.205 0.215 0.225 0.235\n",
      " 0.245 0.255 0.265 0.275 0.285 0.295 0.305 0.315 0.325 0.335 0.345 0.355\n",
      " 0.365 0.375 0.385 0.395 0.405 0.415 0.425 0.435 0.445 0.455 0.465 0.475\n",
      " 0.485 0.495 0.505 0.515 0.525 0.535 0.545 0.555 0.565 0.575 0.585 0.595\n",
      " 0.605 0.615 0.625 0.635 0.645 0.655 0.665 0.675 0.685 0.695 0.705 0.715\n",
      " 0.725 0.735 0.745 0.755 0.765 0.775 0.785 0.795 0.805 0.815 0.825 0.835\n",
      " 0.845 0.855 0.865 0.875 0.885 0.895 0.905 0.915 0.925 0.935 0.945 0.955\n",
      " 0.965 0.975 0.985 0.995]\n",
      "[0.         0.00879935 0.01636806 0.02658773 0.04178446 0.0420649\n",
      " 0.04754416 0.04973128 0.05499384 0.06767372 0.07035092 0.08692842\n",
      " 0.11288733 0.12071318 0.12916148 0.13330018 0.1367078  0.14807689\n",
      " 0.14951189 0.15939681 0.16230895 0.17688273 0.18757808 0.20907396\n",
      " 0.21125041 0.2189018  0.23195249 0.23822124 0.24023244 0.24732329\n",
      " 0.2486086  0.25989121 0.28336834 0.29054509 0.31719811 0.32475148\n",
      " 0.3310478  0.33904828 0.33940881 0.34166067 0.34909411 0.34980195\n",
      " 0.35555683 0.38332271 0.38581906 0.39621514 0.41901213 0.41921564\n",
      " 0.42147944 0.42911282 0.44056295 0.44433092 0.45060373 0.47515858\n",
      " 0.47785636 0.4967735  0.5222215  0.52239247 0.52272779 0.53869393\n",
      " 0.55273949 0.55525305 0.57885552 0.58362524 0.58394551 0.5855971\n",
      " 0.59097084 0.60402115 0.60685285 0.62462866 0.6248477  0.63029306\n",
      " 0.63698281 0.64843833 0.65678384 0.66077513 0.68668151 0.7083158\n",
      " 0.7146985  0.71625739 0.73180704 0.74869622 0.74927416 0.7496765\n",
      " 0.77841416 0.79293819 0.81181289 0.81396668 0.81632532 0.83003376\n",
      " 0.84894446 0.85226851 0.89123058 0.91981441 0.93972961 0.94010654\n",
      " 0.94106909 0.96822191 0.96880958 0.98780832 1.        ]\n"
     ]
    },
    {
     "data": {
      "text/plain": [
       "[<matplotlib.lines.Line2D at 0x7f2f05856710>]"
      ]
     },
     "execution_count": 4,
     "metadata": {},
     "output_type": "execute_result"
    },
    {
     "data": {
      "image/png": "[encoded data removed]",
      "text/plain": [
       "<Figure size 720x480 with 1 Axes>"
      ]
     },
     "metadata": {},
     "output_type": "display_data"
    }
   ],
   "source": [
    "# grid generation\n",
    "I = 100\n",
    "\n",
    "xi = np.arange(0.0, 1.0 + 1.0 / (I+1), 1.0 / (I) )\n",
    "\n",
    "x = np.sin( ( np.pi * xi  ) / 2 ) ** 2\n",
    "y = np.concatenate(([0.0], np.sort(np.random.rand(I-1)), [1.0]))\n",
    "\n",
    "x = xi\n",
    "\n",
    "\n",
    "# extract mitpoint\n",
    "centers = np.zeros(I, dtype = np.float64)\n",
    "for i in range(I):\n",
    "    \n",
    "    centers[i] = x[i] + (x[i+1] - x[i]) / 2\n",
    "\n",
    "\n",
    "\n",
    "print(centers)\n",
    "\n",
    "# nonlinear\n",
    "\n",
    "\n",
    "print(y)\n",
    "\n",
    "fig = plt.figure(dpi = 120)\n",
    "\n",
    "ax = fig.add_subplot(1,1,1)\n",
    "\n",
    "ax.plot(x, np.zeros(y.shape), ls = \"None\", marker = \".\")"
   ]
  },
  {
   "cell_type": "markdown",
   "metadata": {},
   "source": [
    "Finite Volume approximation of conservation law:\n",
    "\n",
    "$$  $$"
   ]
  },
  {
   "cell_type": "code",
   "execution_count": 5,
   "metadata": {},
   "outputs": [
    {
     "data": {
      "image/png": "[encoded data removed]",
      "text/plain": [
       "<Figure size 432x288 with 1 Axes>"
      ]
     },
     "metadata": {},
     "output_type": "display_data"
    },
    {
     "data": {
      "text/plain": [
       "array([0.01, 0.02, 0.03, 0.04, 0.05, 0.06, 0.07, 0.08, 0.09, 0.1 , 0.11,\n",
       "       0.12, 0.13, 0.14, 0.15, 0.16, 0.17, 0.18, 0.19, 0.2 , 0.21, 0.22,\n",
       "       0.23, 0.24, 0.25, 0.26, 0.27, 0.28, 0.29, 0.3 , 0.31, 0.32, 0.33,\n",
       "       0.34, 0.35, 0.36, 0.37, 0.38, 0.39, 0.4 , 0.41, 0.42, 0.43, 0.44,\n",
       "       0.45, 0.46, 0.47, 0.48, 0.49, 0.5 , 0.51, 0.52, 0.53, 0.54, 0.55,\n",
       "       0.56, 0.57, 0.58, 0.59, 0.6 , 0.61, 0.62, 0.63, 0.64, 0.65, 0.66,\n",
       "       0.67, 0.68, 0.69, 0.7 , 0.71, 0.72, 0.73, 0.74, 0.75, 0.76, 0.77,\n",
       "       0.78, 0.79, 0.8 , 0.81, 0.82, 0.83, 0.84, 0.85, 0.86, 0.87, 0.88,\n",
       "       0.89, 0.9 , 0.91, 0.92, 0.93, 0.94, 0.95, 0.96, 0.97, 0.98, 0.99,\n",
       "       1.  ])"
      ]
     },
     "execution_count": 5,
     "metadata": {},
     "output_type": "execute_result"
    }
   ],
   "source": [
    "sigma = 0.005\n",
    "centers = x[:I] + (x[1:] - x[:I])\n",
    "sol_initial = np.exp( -(centers - 0.5) ** 2 / (2 * sigma)  ) / (sigma * np.sqrt(2*np.pi))\n",
    "fig = plt.figure()\n",
    "ax = fig.add_subplot(1,1,1)\n",
    "\n",
    "ax.plot(centers, sol_initial)\n",
    "\n",
    "plt.show()\n",
    "centers"
   ]
  },
  {
   "cell_type": "code",
   "execution_count": 21,
   "metadata": {},
   "outputs": [
    {
     "name": "stdout",
     "output_type": "stream",
     "text": [
      "Reference Diffusion [nm^2/s] 1000000.0\n",
      "Reference Time [s] 10000.0\n",
      "Sample frequency [Hz] 30.517578125\n",
      "Nyquist frequency [Hz] 454545.45454545453\n",
      "Number of points 32768\n"
     ]
    }
   ],
   "source": [
    "M = 1e8\n",
    "D0 = 1e-12 * 1e9 ** 2 # nm^2/s\n",
    "L = 10 # nm\n",
    "T0 = M * L ** 2 / D0\n",
    "\n",
    "N = 2 ** 15\n",
    "Dt = 1e-10\n",
    "time = np.zeros(N, dtype = np.float64 )\n",
    "for j in range(0, N):\n",
    "    \n",
    "    time[j] = j * Dt\n",
    "    \n",
    "f_sample = 1.0 / ( N * Dt * T0 )\n",
    "f_Ny = 1.0 / (2.2 * Dt * T0 )\n",
    "\n",
    "\n",
    "print(\"Reference Diffusion [nm^2/s]\", D0)\n",
    "print(\"Reference Time [s]\", T0)\n",
    "print(\"Sample frequency [Hz]\", f_sample)\n",
    "print(\"Nyquist frequency [Hz]\", f_Ny)\n",
    "print(\"Number of points\", N)\n"
   ]
  },
  {
   "cell_type": "code",
   "execution_count": 17,
   "metadata": {
    "scrolled": true
   },
   "outputs": [
    {
     "name": "stdout",
     "output_type": "stream",
     "text": [
      "Simulation number: 0\n"
     ]
    },
    {
     "name": "stderr",
     "output_type": "stream",
     "text": [
      "/home/desktop/anaconda3/lib/python3.6/site-packages/scipy/sparse/linalg/dsolve/linsolve.py:133: SparseEfficiencyWarning: spsolve requires A be CSC or CSR matrix format\n",
      "  SparseEfficiencyWarning)\n"
     ]
    },
    {
     "name": "stdout",
     "output_type": "stream",
     "text": [
      "Timestep  100\n",
      "Timestep  200\n",
      "Timestep  300\n",
      "Timestep  400\n",
      "Timestep  500\n",
      "Timestep  600\n",
      "Timestep  700\n",
      "Timestep  800\n",
      "Timestep  900\n",
      "Simulation Time:  128.369298\n"
     ]
    }
   ],
   "source": [
    "# residual vector\n",
    "def residual( sol_old, sol_new, Dx, D, I, Dt, M ):\n",
    "        \n",
    "    res = np.zeros(I, dtype = np.float64)\n",
    "    \n",
    "    # anode boundary condition\n",
    "    res[0] = (sol_new[0] - sol_old[0] \n",
    "            + M * Dt * (-D[1] * ( sol_new[1] - sol_new[0]) / ((Dx[0] + Dx[1]) / 2) ) / Dx[0])\n",
    "    \n",
    "    for i in range( 1, I-1 ):\n",
    "\n",
    "        res[i] = ( sol_new[i] -sol_old[i] \n",
    "        + M * Dt * ( -D[i+1] * ( sol_new[i+1] -  sol_new[i]) / ((Dx[i+1] + Dx[i]) / 2.0) \n",
    "                       + D[i]  * ( sol_new[i] -  sol_new[i-1]) / ((Dx[i] + Dx[i-1]) / 2.0) ) / Dx[i] )\n",
    "    \n",
    "    # catode boundary condition\n",
    "    res[I-1] = (sol_new[I-1]- sol_old[I-1] \n",
    "                + M * Dt * (D[I] * ( sol_new[I-1] - sol_new[I-2]) / ((Dx[I-1] + Dx[I-2]) / 2.0) ) / Dx[I-1])\n",
    "    \n",
    "    return res\n",
    "\n",
    "def Jacobian( I, Dx, D, Dt, M ):\n",
    "    \n",
    "    A = np.zeros([I,I], dtype = np.float64)\n",
    "    \n",
    "    # boundary i=0\n",
    "    A[0,0] = 1 + 2 * D[1] * M * Dt / ( Dx[0] * (Dx[1] + Dx[0]) )\n",
    "    A[0,1] = -2 * D[1] * M * Dt / ( Dx[0] * (Dx[1] + Dx[0]) )\n",
    "    \n",
    "    # inner points\n",
    "    for i in range(1,I-1):\n",
    "        A[i,i-1] = -2 * M * Dt * D[i] / ( Dx[i] * (Dx[i] + Dx[i-1]) )\n",
    "        A[i,i] = 1 + 2 * M * Dt * ( D[i+1] / (Dx[i+1] + Dx[i]) + D[i] / (Dx[i] + Dx[i-1]) ) / Dx[i]\n",
    "        A[i,i+1] = -2 * M * Dt * D[i+1] / ( Dx[i] * (Dx[i+1] + Dx[i]) )\n",
    "    \n",
    "    # boundary i=I-1\n",
    "    A[I-1,I-2] = -2 * M * Dt * D[I-1] / ( Dx[I-1] * (Dx[I-1] + Dx[I-2]) )\n",
    "    A[I-1,I-1] = 1 + 2 * M * Dt * D[I-1] / ( Dx[I-1] * (Dx[I-1] + Dx[I-2]) )\n",
    "    \n",
    "    return A\n",
    "\n",
    "# time axis explicit integration\n",
    "N = 1000\n",
    "Dt = 1e-7\n",
    "time = np.zeros(N, dtype = np.float64 )\n",
    "for j in range(0, N):\n",
    "    \n",
    "    time[j] = j * Dt\n",
    "\n",
    "I_vec = np.array([100, 200, 300, 400, 500, 800, 2000, 1500, 2000,3000])\n",
    "\n",
    "\n",
    "# reference entities\n",
    "# lengthscale = nm\n",
    "M = 1e8\n",
    "L = 10 # nm\n",
    "D0 = 1e-12 * 1e9 ** 2 # nm^2/s\n",
    "T0 = M * L ** 2 / D0\n",
    "M_vec = np.array([1e1], dtype = np.float64)\n",
    "\n",
    "\n",
    "solint = np.zeros([M_vec.size,N], dtype = np.float64)\n",
    "sim_time = np.zeros([M_vec.size], dtype = np.float64)\n",
    "\n",
    "# iteration over grid points\n",
    "for iterOut in range(0,M_vec.size):\n",
    "    \n",
    "    print(\"Simulation number:\", iterOut)\n",
    "    \n",
    "    I = I_vec[6]\n",
    "    M = M_vec[iterOut]\n",
    "    \n",
    "    xi = np.arange(0.0, 1.0 + 1.0 / (I+1), 1.0 / (I) )\n",
    "\n",
    "    x = xi\n",
    "    sigma = 0.005\n",
    "    centers = x[:I] + (x[1:] - x[:I])\n",
    "    sol_initial = np.exp( -(centers - 0.5) ** 2 / (2 * sigma)  ) / (sigma * np.sqrt(2*np.pi))\n",
    "\n",
    "    # getting cell volumes\n",
    "    Dx = x[1:] - x[:I]\n",
    "\n",
    "    # init solution vector\n",
    "    sol = np.zeros( [I,N], dtype = np.float64 )\n",
    "\n",
    "    sol[:,0] = sol_initial\n",
    "\n",
    "    D = np.ones( I+1, dtype = np.float64 )\n",
    "\n",
    "    t1 = clock()\n",
    "\n",
    "    # because the jacobian of this system is singular we use the pseudo inverse\n",
    "    #jac = BroydenFirst()\n",
    "    #kjac = KrylovJacobian(inner_M=InverseJacobian(jac))\n",
    "    J = Jacobian( I, Dx, D, Dt, M )\n",
    "    #J_inv = np.linalg.inv(J)\n",
    "    \n",
    "    M_x = lambda x: spla.spsolve(J, x)\n",
    "    M_inv = spla.LinearOperator(shape = (I, I), matvec = M_x)\n",
    "\n",
    "    # time loop\n",
    "    for j in range(1, N):\n",
    "\n",
    "        if np.mod(j,100) == 0:\n",
    "            print(\"Timestep \",j)\n",
    "\n",
    "        sol[:,j] = newton_krylov( lambda y: residual(sol[:,j-1], y, Dx, D, I, Dt, M ), sol[:,j-1], inner_M = M_inv,\n",
    "                                verbose = 0)\n",
    "\n",
    "    t2 = clock()\n",
    "\n",
    "    print(\"Simulation Time: \", t2-t1)\n",
    "\n",
    "    sim_time[iterOut] = t2-t1\n",
    "\n",
    "    for j in range(N):\n",
    "        solint[iterOut,j] = np.dot(sol[:,j], Dx)\n"
   ]
  },
  {
   "cell_type": "code",
   "execution_count": 118,
   "metadata": {},
   "outputs": [
    {
     "data": {
      "image/png": "[encoded data removed]",
      "text/plain": [
       "<Figure size 720x480 with 2 Axes>"
      ]
     },
     "metadata": {},
     "output_type": "display_data"
    }
   ],
   "source": [
    "# scalability \n",
    "fig = plt.figure(dpi = 120)\n",
    "\n",
    "ax1 = fig.add_subplot(1,2,1)\n",
    "\n",
    "ax1.plot(M_vec, sim_time, ls = \"None\", marker = \".\", markersize=  9)\n",
    "\n",
    "ax1.set_xscale(\"log\")\n",
    "\n",
    "ax2 = fig.add_subplot(1,2,2)\n",
    "\n",
    "for iterOut in range(0,solint.shape[0]):\n",
    "    label = r\"I = \" + str(M_vec[iterOut])\n",
    "    ax2.plot(time * T0, solint[iterOut,:], label = label)\n",
    "\n",
    "#ax2.set_yscale(\"symlog\", linthreshy = 1e-16)\n",
    "\n",
    "ax2.legend()\n",
    "fig.tight_layout()\n",
    "\n",
    "plt.show()\n",
    "\n"
   ]
  },
  {
   "cell_type": "code",
   "execution_count": 18,
   "metadata": {},
   "outputs": [
    {
     "data": {
      "image/png": "[encoded data removed]",
      "text/plain": [
       "<Figure size 720x480 with 2 Axes>"
      ]
     },
     "metadata": {},
     "output_type": "display_data"
    }
   ],
   "source": [
    "plot_index = 800\n",
    "fig = plt.figure(dpi = 120)\n",
    "\n",
    "ax1 = fig.add_subplot(1,2,1)\n",
    "\n",
    "ax1.plot(centers, sol)\n",
    "\n",
    "ax1.plot(centers, sol[:,-1], lw = 2, color = \"red\")\n",
    "\n",
    "ax2 = fig.add_subplot(1,2,2)\n",
    "\n",
    "ax2.plot(time, solint[-1,:])\n",
    "\n",
    "#ax2.set_yscale(\"log\")\n",
    "\n",
    "plt.show()"
   ]
  },
  {
   "cell_type": "markdown",
   "metadata": {},
   "source": [
    "Now approximate Jacobian, compute it numerically\n",
    "\n",
    "secant method, but using tridiagonality"
   ]
  },
  {
   "cell_type": "code",
   "execution_count": null,
   "metadata": {},
   "outputs": [],
   "source": [
    "def Jacobian_2( I, sol_new, p)\n",
    "\n",
    "    A = np.zeros([I,I], dtype = np.float64)\n",
    "\n",
    "    # inner points\n",
    "    for i in range(1,I-1):\n",
    "        \n",
    "        A[i,i-1] = \n",
    "        A[i,i]\n",
    "        A[i,i+1]"
   ]
  }
 ],
 "metadata": {
  "kernelspec": {
   "display_name": "Python 3",
   "language": "python",
   "name": "python3"
  },
  "language_info": {
   "codemirror_mode": {
    "name": "ipython",
    "version": 3
   },
   "file_extension": ".py",
   "mimetype": "text/x-python",
   "name": "python",
   "nbconvert_exporter": "python",
   "pygments_lexer": "ipython3",
   "version": "3.6.5"
  }
 },
 "nbformat": 4,
 "nbformat_minor": 2
}
