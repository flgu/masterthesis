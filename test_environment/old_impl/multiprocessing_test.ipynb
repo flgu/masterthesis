{
 "cells": [
  {
   "cell_type": "code",
   "execution_count": 32,
   "metadata": {},
   "outputs": [],
   "source": [
    "import numpy as np\n",
    "import multiprocessing as mp\n",
    "from time import clock"
   ]
  },
  {
   "cell_type": "code",
   "execution_count": 35,
   "metadata": {},
   "outputs": [
    {
     "name": "stdout",
     "output_type": "stream",
     "text": [
      "Number of available cores: 4\n"
     ]
    }
   ],
   "source": [
    "# Number of cores available\n",
    "print(\"Number of available cores: \" + str(mp.cpu_count()) )\n",
    "\n",
    "# define function which will be called from each subprocess with different arguments\n",
    "def fun( x, a, name ):\n",
    "    \n",
    "    out = 0.0\n",
    "    \n",
    "    for i in range(0, x.shape[0]):\n",
    "        #if np.mod(i,10) == 0:\n",
    "            #print(name, i)\n",
    "        out += a * x\n",
    "    \n",
    "    return out\n",
    "\n",
    "x = np.arange(0,1e3,0.1)\n",
    "\n"
   ]
  },
  {
   "cell_type": "code",
   "execution_count": 36,
   "metadata": {},
   "outputs": [
    {
     "name": "stdout",
     "output_type": "stream",
     "text": [
      "Serial time 1.026966999999999\n"
     ]
    }
   ],
   "source": [
    "# serial approach\n",
    "t1 = clock()\n",
    "fun( x, 1, \"process 1\" )\n",
    "fun( x, 2, \"process 2\" )\n",
    "fun( x, 3, \"process 3\" )\n",
    "fun( x, 4, \"process 4\" )\n",
    "\n",
    "t2 = clock()\n",
    "\n",
    "print( \"Serial time\", t2 - t1)\n",
    "\n"
   ]
  },
  {
   "cell_type": "code",
   "execution_count": 37,
   "metadata": {},
   "outputs": [
    {
     "name": "stdout",
     "output_type": "stream",
     "text": [
      "Parallel time 0.0321130000000025\n"
     ]
    }
   ],
   "source": [
    "# multiprocess approach\n",
    "t1 = clock()\n",
    "\n",
    "# start multiprocessing\n",
    "p1 = mp.Process( target = fun, args = ( x, 1, \"process 1\", ))\n",
    "p2 = mp.Process( target = fun, args = ( x, 2,\"process 2\", ))\n",
    "p3 = mp.Process( target = fun, args = ( x, 3,\"process 3\", ))\n",
    "p4 = mp.Process( target = fun, args = ( x, 4,\"process 4\", ))\n",
    "\n",
    "\n",
    "# start subprocesses\n",
    "p1.start()\n",
    "p2.start()\n",
    "p3.start()\n",
    "p4.start()\n",
    "\n",
    "\n",
    "p1.join()\n",
    "p2.join()\n",
    "p3.join()\n",
    "p4.join()\n",
    "\n",
    "t2 = clock()\n",
    "\n",
    "print( \"Parallel time\", t2 - t1)\n"
   ]
  }
 ],
 "metadata": {
  "kernelspec": {
   "display_name": "Python 3",
   "language": "python",
   "name": "python3"
  },
  "language_info": {
   "codemirror_mode": {
    "name": "ipython",
    "version": 3
   },
   "file_extension": ".py",
   "mimetype": "text/x-python",
   "name": "python",
   "nbconvert_exporter": "python",
   "pygments_lexer": "ipython3",
   "version": "3.6.5"
  }
 },
 "nbformat": 4,
 "nbformat_minor": 2
}
